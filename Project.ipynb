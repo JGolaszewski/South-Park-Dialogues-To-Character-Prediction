{
 "cells": [
  {
   "metadata": {},
   "cell_type": "markdown",
   "source": "# South Park Dialogues Analysis And Dialogues To Character Prediction",
   "id": "31c6da494bea24c0"
  },
  {
   "metadata": {},
   "cell_type": "markdown",
   "source": [
    "## Introduction\n",
    "\n",
    "This notebook is a part of project for university class \"PRiAD\" (Presentation and Analysis of Data). The main goal of this project is to analyze [South Park](https://en.wikipedia.org/wiki/South_Park) dialogues and predict which character said which dialogue. The dataset used in this project is available on Kaggle: https://www.kaggle.com/tovarischsukhov/southparklines. The dataset contains 70896 dialogues from 5 seasons of South Park. The dataset contains the following columns: Season, Episode, Character, Line. The dataset is in CSV format.\n",
    "\n",
    "## Goals\n",
    "\n",
    "The main goals of this project are:\n",
    "- Analyze South Park dialogues and find interesting patterns\n",
    "- Build a model that predicts which character said which dialogue\n",
    "- Evaluate the model\n",
    "\n",
    "## Tools\n",
    "\n",
    "The following tools will be used in this project:\n",
    "- Python\n",
    "- Pandas\n",
    "- Numpy\n",
    "- Matplotlib\n",
    "- Seaborn\n",
    "- ***And more to come...***"
   ],
   "id": "61fcbb743577de93"
  },
  {
   "metadata": {},
   "cell_type": "markdown",
   "source": "",
   "id": "fbe269ebe53c9613"
  },
  {
   "metadata": {},
   "cell_type": "code",
   "outputs": [],
   "execution_count": null,
   "source": "",
   "id": "48f5b05ace9f3573"
  }
 ],
 "metadata": {
  "kernelspec": {
   "display_name": "Python 3",
   "language": "python",
   "name": "python3"
  },
  "language_info": {
   "codemirror_mode": {
    "name": "ipython",
    "version": 2
   },
   "file_extension": ".py",
   "mimetype": "text/x-python",
   "name": "python",
   "nbconvert_exporter": "python",
   "pygments_lexer": "ipython2",
   "version": "2.7.6"
  }
 },
 "nbformat": 4,
 "nbformat_minor": 5
}
